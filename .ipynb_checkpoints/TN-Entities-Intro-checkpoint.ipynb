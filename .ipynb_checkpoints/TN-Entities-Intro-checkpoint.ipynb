{
 "cells": [
  {
   "cell_type": "markdown",
   "id": "18127688-8088-4295-ab1f-f6a0c6f873cb",
   "metadata": {},
   "source": [
    "# Representing CSV data as Truenumbers\n",
    "\n",
    "\n",
    "In this brief, we will look at a simple CVS data file, understand what it means, and then show how to represent it as phrase-oriented data in the *Truenumbers&reg;* system."
   ]
  },
  {
   "cell_type": "code",
   "execution_count": 1,
   "id": "fe0232eb-8060-44c4-b51a-d5452a4e970f",
   "metadata": {
    "tags": []
   },
   "outputs": [],
   "source": [
    "from TNUM import tnum_authorize"
   ]
  },
  {
   "cell_type": "code",
   "execution_count": 2,
   "id": "32e4b40a-bf0d-4d48-b925-a4f2fee0f884",
   "metadata": {
    "tags": []
   },
   "outputs": [
    {
     "name": "stdout",
     "output_type": "stream",
     "text": [
      "['testspace', 'TN-BIZDEV1', 'testCreate', 'testCreate2']\n",
      "Available spaces: ['testspace', 'TN-BIZDEV1', 'testCreate', 'testCreate2']\n",
      "Numberspace set to: testspace\n"
     ]
    }
   ],
   "source": [
    "tnum_authorize()"
   ]
  },
  {
   "cell_type": "code",
   "execution_count": null,
   "id": "9cacea22-e493-46e2-82cc-93f2794c4b21",
   "metadata": {},
   "outputs": [],
   "source": []
  }
 ],
 "metadata": {
  "kernelspec": {
   "display_name": "Python 3 (ipykernel)",
   "language": "python",
   "name": "python3"
  },
  "language_info": {
   "codemirror_mode": {
    "name": "ipython",
    "version": 3
   },
   "file_extension": ".py",
   "mimetype": "text/x-python",
   "name": "python",
   "nbconvert_exporter": "python",
   "pygments_lexer": "ipython3",
   "version": "3.11.3"
  }
 },
 "nbformat": 4,
 "nbformat_minor": 5
}
