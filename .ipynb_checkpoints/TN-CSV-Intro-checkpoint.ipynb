{
 "cells": [
  {
   "cell_type": "markdown",
   "id": "18127688-8088-4295-ab1f-f6a0c6f873cb",
   "metadata": {},
   "source": [
    "## Truenumbers (TN) using TNUM functions in Python\n",
    "\n",
    "\n",
    "TNUM provides Python functions for accessing the TN REST API in order to create, query and work with truenumber data.  It includes utilities for displaying the graphs and trees appropriate to the structure of TN data.  This notbook runs though these functions with examples as a kind of introduction and user guide for TNUM and TN. \n",
    "\n",
    "We start by importing all the TNUM functions, and calling *tnum_authorize* to connect to a TN server and display all the available numberspaces in that server.  We then set TNUM state to work with one particular numberspace.\n"
   ]
  },
  {
   "cell_type": "code",
   "execution_count": 1,
   "id": "fe0232eb-8060-44c4-b51a-d5452a4e970f",
   "metadata": {
    "tags": []
   },
   "outputs": [
    {
     "name": "stdout",
     "output_type": "stream",
     "text": [
      "['test-nard-parser', 'tyler-test', 'TET-DEMO-SANDBOX1']\n",
      "Numberspace set to: test-nard-parser\n",
      "Available spaces: ['test-nard-parser', 'tyler-test', 'TET-DEMO-SANDBOX1']\n",
      "Defaulting to: test-nard-parser\n",
      "Numberspace set to: TET-DEMO-SANDBOX1\n"
     ]
    }
   ],
   "source": [
    "from TNUM import *\n",
    "tnum_authorize(ip = \"gov.truenumbers.com\")\n",
    "tnum_setSpace(\"TET-DEMO-SANDBOX1\")"
   ]
  },
  {
   "cell_type": "code",
   "execution_count": null,
   "id": "489ed243-4ddd-4e83-a5c7-ec6cdfb9a5a1",
   "metadata": {},
   "outputs": [],
   "source": [
    "This numberspace has data based on a snapshot of a system which provides\n",
    "a dashboard for aircraft maintenance.  "
   ]
  },
  {
   "cell_type": "code",
   "execution_count": null,
   "id": "50bc1152-5416-4414-b9b9-f04911cd72f4",
   "metadata": {},
   "outputs": [],
   "source": []
  },
  {
   "cell_type": "code",
   "execution_count": null,
   "id": "fc6b378f-49fa-42df-a6d7-1f9bb74d962c",
   "metadata": {},
   "outputs": [],
   "source": []
  }
 ],
 "metadata": {
  "kernelspec": {
   "display_name": "Python 3 (ipykernel)",
   "language": "python",
   "name": "python3"
  },
  "language_info": {
   "codemirror_mode": {
    "name": "ipython",
    "version": 3
   },
   "file_extension": ".py",
   "mimetype": "text/x-python",
   "name": "python",
   "nbconvert_exporter": "python",
   "pygments_lexer": "ipython3",
   "version": "3.11.3"
  }
 },
 "nbformat": 4,
 "nbformat_minor": 5
}
