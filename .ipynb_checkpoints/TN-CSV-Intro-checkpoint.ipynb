{
 "cells": [
  {
   "cell_type": "markdown",
   "id": "18127688-8088-4295-ab1f-f6a0c6f873cb",
   "metadata": {},
   "source": [
    "## TNUM functions for accessing Truenumbers&reg;\n",
    "\n",
    "\n",
    "TNUM provides Python functions for accessing the Truenumbers (TN) REST API to create, query and work with truenumber data.  It includes utilities for displaying the graphs and trees appropriate to the structure of TN.  This notbook runs though these functions with examples as a kind of introduction and user guide for TNUM and TN. \n",
    "\n",
    "We start by importing all the TNUM functions, and calling *tnum_authorize* to connect to a TN server and display all the available numberspaces in that server.  We then set TNUM state to work with one particular numberspace.\n"
   ]
  },
  {
   "cell_type": "code",
   "execution_count": 1,
   "id": "fe0232eb-8060-44c4-b51a-d5452a4e970f",
   "metadata": {
    "tags": []
   },
   "outputs": [
    {
     "name": "stdout",
     "output_type": "stream",
     "text": [
      "['test-nard-parser', 'tyler-test', 'TET-DEMO-SANDBOX1']\n",
      "Available spaces: ['test-nard-parser', 'tyler-test', 'TET-DEMO-SANDBOX1']\n",
      "Defaulting to: test-nard-parser\n",
      "Numberspace set to: tyler-test\n"
     ]
    }
   ],
   "source": [
    "from TNUM import *\n",
    "Tnum.authorize(\"gov.truenumbers.com\")\n",
    "Tnum.setSpace(\"tyler-test\")"
   ]
  },
  {
   "cell_type": "markdown",
   "id": "9c302f34-f802-471d-a4cd-f71fcde6bb1b",
   "metadata": {},
   "source": [
    "This numberspace has data based on a snapshot of a system which provides\n",
    "a dashboard for aircraft maintenance.  "
   ]
  },
  {
   "cell_type": "code",
   "execution_count": 2,
   "id": "50bc1152-5416-4414-b9b9-f04911cd72f4",
   "metadata": {},
   "outputs": [
    {
     "name": "stdout",
     "output_type": "stream",
     "text": [
      "Returned 1 thru 2 of 2 results\n"
     ]
    }
   ],
   "source": [
    "res = Tnum.query(\"* has length\")"
   ]
  },
  {
   "cell_type": "code",
   "execution_count": 3,
   "id": "86f6772b-cf69-46f9-aac1-c92de1803d55",
   "metadata": {
    "tags": []
   },
   "outputs": [
    {
     "name": "stdout",
     "output_type": "stream",
     "text": [
      "obj.date = ['2023-03-11', '18:50:40.290Z']\n",
      "obj.dump = <bound method Tn.dump of <TNUM.Tn object at 0x000001CD006250D0>>\n",
      "obj.error = None\n",
      "obj.guid = '84d4073b-793e-4928-a10e-2ac863bf0b65'\n",
      "obj.property = 'length'\n",
      "obj.stmt = 'building has length = 3 m'\n",
      "obj.subject = 'building'\n",
      "obj.tags = ['testing']\n",
      "obj.unit = ' m'\n",
      "obj.value = 3\n"
     ]
    }
   ],
   "source": [
    "res[0].dump()"
   ]
  }
 ],
 "metadata": {
  "kernelspec": {
   "display_name": "Python 3 (ipykernel)",
   "language": "python",
   "name": "python3"
  },
  "language_info": {
   "codemirror_mode": {
    "name": "ipython",
    "version": 3
   },
   "file_extension": ".py",
   "mimetype": "text/x-python",
   "name": "python",
   "nbconvert_exporter": "python",
   "pygments_lexer": "ipython3",
   "version": "3.11.3"
  }
 },
 "nbformat": 4,
 "nbformat_minor": 5
}
