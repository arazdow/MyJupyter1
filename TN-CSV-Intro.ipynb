{
 "cells": [
  {
   "cell_type": "markdown",
   "id": "18127688-8088-4295-ab1f-f6a0c6f873cb",
   "metadata": {},
   "source": [
    "## TNUM functions for accessing Truenumbers&reg;\n",
    "\n",
    "\n",
    "TNUM provides Python functions for accessing the Truenumbers (TN) REST API to create, query and work with truenumber data.  It includes utilities for displaying the graphs and trees appropriate to the structure of TN.  This notbook runs though these functions with examples as a kind of introduction and user guide for TNUM and TN. \n",
    "\n",
    "We start by importing all the TNUM functions, and calling *tnum_authorize* to connect to a TN server and display all the available numberspaces in that server.  We then set TNUM state to work with one particular numberspace.\n"
   ]
  },
  {
   "cell_type": "code",
   "execution_count": 4,
   "id": "fe0232eb-8060-44c4-b51a-d5452a4e970f",
   "metadata": {
    "tags": []
   },
   "outputs": [
    {
     "ename": "IndentationError",
     "evalue": "expected an indented block after function definition on line 9 (tnum_ingest.py, line 10)",
     "output_type": "error",
     "traceback": [
      "Traceback \u001b[1;36m(most recent call last)\u001b[0m:\n",
      "\u001b[0m  File \u001b[0;32m~\\AppData\\Local\\Packages\\PythonSoftwareFoundation.Python.3.11_qbz5n2kfra8p0\\LocalCache\\local-packages\\Python311\\site-packages\\IPython\\core\\interactiveshell.py:3508\u001b[0m in \u001b[0;35mrun_code\u001b[0m\n    exec(code_obj, self.user_global_ns, self.user_ns)\u001b[0m\n",
      "\u001b[1;36m  Cell \u001b[1;32mIn[4], line 3\u001b[1;36m\n\u001b[1;33m    from tnum_ingest import *\u001b[1;36m\n",
      "\u001b[1;36m  File \u001b[1;32m~\\Documents\\Jupyter\\tnum_ingest.py:10\u001b[1;36m\u001b[0m\n\u001b[1;33m    tok = re.sub(r'\\s+', '_', aString.strip())\u001b[0m\n\u001b[1;37m    ^\u001b[0m\n\u001b[1;31mIndentationError\u001b[0m\u001b[1;31m:\u001b[0m expected an indented block after function definition on line 9\n"
     ]
    }
   ],
   "source": [
    "from IPython.display import Markdown, display\n",
    "from tnum import *\n",
    "from tnum_ingest import *\n",
    "import pandas as pd\n",
    "import tkinter as tk\n",
    "from tkinter import filedialog\n",
    "\n",
    "Tnum.authorize(\"gov.truenumbers.com\")\n",
    "Tnum.setSpace(\"tyler-test\")"
   ]
  },
  {
   "cell_type": "markdown",
   "id": "9c302f34-f802-471d-a4cd-f71fcde6bb1b",
   "metadata": {},
   "source": [
    "This numberspace has data based on a snapshot of a system which provides\n",
    "a dashboard for aircraft maintenance.  "
   ]
  },
  {
   "cell_type": "code",
   "execution_count": 2,
   "id": "50bc1152-5416-4414-b9b9-f04911cd72f4",
   "metadata": {},
   "outputs": [
    {
     "name": "stdout",
     "output_type": "stream",
     "text": [
      "        Unnamed: 0  sub2=/$valt Unnamed: 2 Unnamed: 3 sub1=$valt Unnamed: 5  \\\n",
      "0             city   city_ascii        lat        lng    country       iso2   \n",
      "1            Tokyo        Tokyo    35.6897   139.6922      Japan         JP   \n",
      "2          Jakarta      Jakarta     -6.175   106.8275  Indonesia         ID   \n",
      "3            Delhi        Delhi      28.61      77.23      India         IN   \n",
      "4              NaN          NaN        NaN        NaN        NaN        NaN   \n",
      "...            ...          ...        ...        ...        ...        ...   \n",
      "44693        Numto        Numto    63.6667    71.3333     Russia         RU   \n",
      "44694         Nord         Nord    81.7166      -17.8  Greenland         GL   \n",
      "44695  Timmiarmiut  Timmiarmiut    62.5333   -42.2167  Greenland         GL   \n",
      "44696   San Rafael   San Rafael   -16.7795   -60.6799    Bolivia         BO   \n",
      "44697      Nordvik      Nordvik    74.0165     111.51     Russia         RU   \n",
      "\n",
      "      Unnamed: 6                                Unnamed: 7 Unnamed: 8  \\\n",
      "0           iso3                                admin_name    capital   \n",
      "1            JPN                                     Tōkyō    primary   \n",
      "2            IDN                                   Jakarta    primary   \n",
      "3            IND                                     Delhi      admin   \n",
      "4            NaN                                       NaN        NaN   \n",
      "...          ...                                       ...        ...   \n",
      "44693        RUS  Khanty-Mansiyskiy Avtonomnyy Okrug-Yugra        NaN   \n",
      "44694        GRL                                       NaN        NaN   \n",
      "44695        GRL                                  Kujalleq        NaN   \n",
      "44696        BOL                                Santa Cruz        NaN   \n",
      "44697        RUS                        Krasnoyarskiy Kray        NaN   \n",
      "\n",
      "      $sub|population|$valn| Unnamed: 10  Unnamed: 11   x  x.1  x.2  \n",
      "0                 population          id          NaN NaN  NaN  NaN  \n",
      "1                   37732000  1392685764          NaN NaN  NaN  NaN  \n",
      "2                   33756000  1360771077          NaN NaN  NaN  NaN  \n",
      "3                   32226000  1356872604          NaN NaN  NaN  NaN  \n",
      "4                        NaN         NaN          NaN NaN  NaN  NaN  \n",
      "...                      ...         ...          ...  ..  ...  ...  \n",
      "44693                     10  1643985006          NaN NaN  NaN  NaN  \n",
      "44694                     10  1304217709          NaN NaN  NaN  NaN  \n",
      "44695                     10  1304206491          NaN NaN  NaN  NaN  \n",
      "44696                    NaN  1068405265          NaN NaN  NaN  NaN  \n",
      "44697                      0  1643587468          NaN NaN  NaN  NaN  \n",
      "\n",
      "[44698 rows x 15 columns]\n"
     ]
    }
   ],
   "source": [
    "# open the file dialog box\n",
    "file_path = filedialog.askopenfilename()\n",
    "\n",
    "df = pd.read_csv (file_path)\n",
    "print(df)"
   ]
  },
  {
   "cell_type": "code",
   "execution_count": 3,
   "id": "86f6772b-cf69-46f9-aac1-c92de1803d55",
   "metadata": {
    "tags": []
   },
   "outputs": [
    {
     "ename": "NameError",
     "evalue": "name 'res' is not defined",
     "output_type": "error",
     "traceback": [
      "\u001b[1;31m---------------------------------------------------------------------------\u001b[0m",
      "\u001b[1;31mNameError\u001b[0m                                 Traceback (most recent call last)",
      "Cell \u001b[1;32mIn[3], line 1\u001b[0m\n\u001b[1;32m----> 1\u001b[0m \u001b[43mres\u001b[49m[\u001b[38;5;241m0\u001b[39m]\u001b[38;5;241m.\u001b[39mdump()\n",
      "\u001b[1;31mNameError\u001b[0m: name 'res' is not defined"
     ]
    }
   ],
   "source": [
    "\n",
    "res[0].dump()\n"
   ]
  }
 ],
 "metadata": {
  "kernelspec": {
   "display_name": "Python 3 (ipykernel)",
   "language": "python",
   "name": "python3"
  },
  "language_info": {
   "codemirror_mode": {
    "name": "ipython",
    "version": 3
   },
   "file_extension": ".py",
   "mimetype": "text/x-python",
   "name": "python",
   "nbconvert_exporter": "python",
   "pygments_lexer": "ipython3",
   "version": "3.11.3"
  }
 },
 "nbformat": 4,
 "nbformat_minor": 5
}
