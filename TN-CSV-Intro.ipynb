{
 "cells": [
  {
   "cell_type": "markdown",
   "id": "18127688-8088-4295-ab1f-f6a0c6f873cb",
   "metadata": {},
   "source": [
    "## TNUM functions for accessing Truenumbers&reg;\n",
    "\n",
    "\n",
    "TNUM provides Python functions for accessing the Truenumbers (TN) REST API to create, query and work with truenumber data.  It includes utilities for displaying the graphs and trees appropriate to the structure of TN.  This notbook runs though these functions with examples as a kind of introduction and user guide for TNUM and TN. \n",
    "\n",
    "We start by importing all the TNUM functions, and calling *tnum_authorize* to connect to a TN server and display all the available numberspaces in that server.  We then set TNUM state to work with one particular numberspace.\n"
   ]
  },
  {
   "cell_type": "code",
   "execution_count": 1,
   "id": "fe0232eb-8060-44c4-b51a-d5452a4e970f",
   "metadata": {
    "tags": []
   },
   "outputs": [
    {
     "name": "stdout",
     "output_type": "stream",
     "text": [
      "['test-nard-parser', 'tyler-test', 'TET-DEMO-SANDBOX1']\n",
      "Available spaces: ['test-nard-parser', 'tyler-test', 'TET-DEMO-SANDBOX1']\n",
      "Defaulting to: test-nard-parser\n",
      "Numberspace set to: tyler-test\n"
     ]
    }
   ],
   "source": [
    "from TNUM import *\n",
    "Tnum.authorize(\"gov.truenumbers.com\")\n",
    "Tnum.setSpace(\"tyler-test\")"
   ]
  },
  {
   "cell_type": "markdown",
   "id": "9c302f34-f802-471d-a4cd-f71fcde6bb1b",
   "metadata": {},
   "source": [
    "This numberspace has data based on a snapshot of a system which provides\n",
    "a dashboard for aircraft maintenance.  "
   ]
  },
  {
   "cell_type": "code",
   "execution_count": 2,
   "id": "50bc1152-5416-4414-b9b9-f04911cd72f4",
   "metadata": {},
   "outputs": [
    {
     "name": "stdout",
     "output_type": "stream",
     "text": [
      "Returned 1 thru 2 of 2 results\n"
     ]
    },
    {
     "ename": "NameError",
     "evalue": "name 'queryResultToObjects' is not defined",
     "output_type": "error",
     "traceback": [
      "\u001b[1;31m---------------------------------------------------------------------------\u001b[0m",
      "\u001b[1;31mNameError\u001b[0m                                 Traceback (most recent call last)",
      "Cell \u001b[1;32mIn[2], line 1\u001b[0m\n\u001b[1;32m----> 1\u001b[0m res \u001b[38;5;241m=\u001b[39m \u001b[43mTnum\u001b[49m\u001b[38;5;241;43m.\u001b[39;49m\u001b[43mquery\u001b[49m\u001b[43m(\u001b[49m\u001b[38;5;124;43m\"\u001b[39;49m\u001b[38;5;124;43m* has length\u001b[39;49m\u001b[38;5;124;43m\"\u001b[39;49m\u001b[43m)\u001b[49m\n",
      "File \u001b[1;32m~\\Documents\\Jupyter\\TNUM.py:104\u001b[0m, in \u001b[0;36mTnum.query\u001b[1;34m(query, SI, max, start)\u001b[0m\n\u001b[0;32m    100\u001b[0m \u001b[38;5;28mprint\u001b[39m(\u001b[38;5;124m\"\u001b[39m\u001b[38;5;124mReturned \u001b[39m\u001b[38;5;132;01m{}\u001b[39;00m\u001b[38;5;124m thru \u001b[39m\u001b[38;5;132;01m{}\u001b[39;00m\u001b[38;5;124m of \u001b[39m\u001b[38;5;132;01m{}\u001b[39;00m\u001b[38;5;124m results\u001b[39m\u001b[38;5;124m\"\u001b[39m\u001b[38;5;241m.\u001b[39mformat(\n\u001b[0;32m    101\u001b[0m     first, start \u001b[38;5;241m+\u001b[39m numReturned, result[\u001b[38;5;124m\"\u001b[39m\u001b[38;5;124mcount\u001b[39m\u001b[38;5;124m\"\u001b[39m]))\n\u001b[0;32m    103\u001b[0m Tnum\u001b[38;5;241m.\u001b[39mresult_cache \u001b[38;5;241m=\u001b[39m result\n\u001b[1;32m--> 104\u001b[0m \u001b[38;5;28;01mreturn\u001b[39;00m \u001b[43mqueryResultToObjects\u001b[49m(result, SI, \u001b[38;5;28mmax\u001b[39m)\n",
      "\u001b[1;31mNameError\u001b[0m: name 'queryResultToObjects' is not defined"
     ]
    }
   ],
   "source": [
    "res = Tnum.query(\"* has length\")"
   ]
  },
  {
   "cell_type": "code",
   "execution_count": null,
   "id": "86f6772b-cf69-46f9-aac1-c92de1803d55",
   "metadata": {
    "tags": []
   },
   "outputs": [],
   "source": [
    "res[0].dump()"
   ]
  }
 ],
 "metadata": {
  "kernelspec": {
   "display_name": "Python 3 (ipykernel)",
   "language": "python",
   "name": "python3"
  },
  "language_info": {
   "codemirror_mode": {
    "name": "ipython",
    "version": 3
   },
   "file_extension": ".py",
   "mimetype": "text/x-python",
   "name": "python",
   "nbconvert_exporter": "python",
   "pygments_lexer": "ipython3",
   "version": "3.11.3"
  }
 },
 "nbformat": 4,
 "nbformat_minor": 5
}
