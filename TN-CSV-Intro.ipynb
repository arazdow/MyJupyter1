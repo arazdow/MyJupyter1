{
 "cells": [
  {
   "cell_type": "markdown",
   "id": "18127688-8088-4295-ab1f-f6a0c6f873cb",
   "metadata": {},
   "source": [
    "## TNUM functions for accessing Truenumbers&reg;\n",
    "\n",
    "\n",
    "TNUM provides Python functions for accessing the Truenumbers (TN) REST API to create, query and work with truenumber data.  It includes utilities for displaying the graphs and trees appropriate to the structure of TN.  This notbook runs though these functions with examples as a kind of introduction and user guide for TNUM and TN. \n",
    "\n",
    "We start by importing all the TNUM functions, and calling *tnum_authorize* to connect to a TN server and display all the available numberspaces in that server.  We then set TNUM state to work with one particular numberspace.\n"
   ]
  },
  {
   "cell_type": "code",
   "execution_count": 1,
   "id": "fe0232eb-8060-44c4-b51a-d5452a4e970f",
   "metadata": {
    "tags": []
   },
   "outputs": [
    {
     "name": "stdout",
     "output_type": "stream",
     "text": [
      "['test-nard-parser', 'tyler-test', 'TET-DEMO-SANDBOX1']\n",
      "Available spaces: ['test-nard-parser', 'tyler-test', 'TET-DEMO-SANDBOX1']\n",
      "Defaulting to: test-nard-parser\n",
      "Numberspace set to: tyler-test\n"
     ]
    }
   ],
   "source": [
    "from IPython.display import Markdown, display\n",
    "from TNUM import *\n",
    "import pandas as pd\n",
    "import tkinter as tk\n",
    "from tkinter import filedialog\n",
    "\n",
    "Tnum.authorize(\"gov.truenumbers.com\")\n",
    "Tnum.setSpace(\"tyler-test\")"
   ]
  },
  {
   "cell_type": "markdown",
   "id": "9c302f34-f802-471d-a4cd-f71fcde6bb1b",
   "metadata": {},
   "source": [
    "This numberspace has data based on a snapshot of a system which provides\n",
    "a dashboard for aircraft maintenance.  "
   ]
  },
  {
   "cell_type": "code",
   "execution_count": 2,
   "id": "50bc1152-5416-4414-b9b9-f04911cd72f4",
   "metadata": {},
   "outputs": [
    {
     "name": "stdout",
     "output_type": "stream",
     "text": [
      "   IDOC number                  Name Date of Birth   Sex   Race  \\\n",
      "0       A00147      MCCUTCHEON, JOHN     14-Jun-49  Male  White   \n",
      "1       A01054       TIPTON, DARNELL     25-Mar-54  Male  Black   \n",
      "2       A01072        BRISBON, HENRY     12-Jan-56  Male  Black   \n",
      "3       A01077         JONES, ROBERT      3-Apr-53  Male  Black   \n",
      "4       A01148         BROWN, RONALD      2-Feb-55  Male  Black   \n",
      "5       A01157      LANGFORD, ROBERT     18-Jan-45  Male  Black   \n",
      "6       A01258     EASTLAND, CHARLES     28-Jun-41  Male  Black   \n",
      "7       A01356       LYLES, ENICE JR     14-Nov-53  Male  Black   \n",
      "8       A01365       FLANDERS, BRADY     16-Sep-48  Male  Black   \n",
      "9       A01411         EDMONSON, RAY     29-Nov-40  Male  Black   \n",
      "10      A01467       WILLIAMS, JAMES     31-Oct-46  Male  Black   \n",
      "11      A01676     BARNES, JOSEPH JR      6-Oct-54  Male  Black   \n",
      "12      A01680           SIMS, JAMES     14-Nov-47  Male  Black   \n",
      "13      A01681  HENDERSON, SYLVESTER     11-May-47  Male  Black   \n",
      "\n",
      "   Veteran Status Current Admission Date          Admission Type  \\\n",
      "0             Yes              16-Feb-83        Court admissions   \n",
      "1              No              23-Dec-88  New sentence violators   \n",
      "2              No              22-Feb-74        Court admissions   \n",
      "3              No              16-Sep-83  New sentence violators   \n",
      "4              No              13-Dec-05        Court admissions   \n",
      "5              No              15-Sep-00                   Other   \n",
      "6              No              18-Mar-88  New sentence violators   \n",
      "7              No              23-Jul-82  New sentence violators   \n",
      "8              No              17-Feb-88  New sentence violators   \n",
      "9              No              20-Sep-83        Court admissions   \n",
      "10             No              22-May-81        Court admissions   \n",
      "11             No              20-May-83        Court admissions   \n",
      "12             No              21-Sep-84  New sentence violators   \n",
      "13             No              21-Sep-84  New sentence violators   \n",
      "\n",
      "   Parent Institution Projected Mandatory Supervised Release (MSR) Date3  ...  \\\n",
      "0               Dixon                                          26-Nov-32  ...   \n",
      "1    Western Illinois                                          14-Aug-65  ...   \n",
      "2             Pontiac                                                NaN  ...   \n",
      "3       Pinckneyville                                                NaN  ...   \n",
      "4    Western Illinois                                                NaN  ...   \n",
      "5          Stateville                                                NaN  ...   \n",
      "6               Dixon                                          27-Mar-25  ...   \n",
      "7       Pinckneyville                                                NaN  ...   \n",
      "8               Dixon                                          27-Jan-51  ...   \n",
      "9               Dixon                                                NaN  ...   \n",
      "10         Stateville                                                NaN  ...   \n",
      "11           Sheridan                                           6-Oct-44  ...   \n",
      "12      Pinckneyville                                                NaN  ...   \n",
      "13         Stateville                                                NaN  ...   \n",
      "\n",
      "   Custody Date Sentence Date Crime Class  \\\n",
      "0     26-Nov-82     15-Feb-83     Class X   \n",
      "1     29-Sep-86      7-Aug-87     Class X   \n",
      "2     24-Feb-82     24-Feb-82      Murder   \n",
      "3     13-Apr-82     15-Sep-83      Murder   \n",
      "4      3-Oct-98      9-Dec-05      Murder   \n",
      "5      4-Jun-87      8-Jan-90      Murder   \n",
      "6     27-Mar-85      8-Mar-88     Class X   \n",
      "7     26-Feb-78      3-Oct-86      Murder   \n",
      "8     27-Aug-79     16-Jun-80     Class X   \n",
      "9      5-Dec-82     13-Sep-83      Murder   \n",
      "10    15-Jun-80     15-May-81      Murder   \n",
      "11     6-Aug-82     13-May-83     Class X   \n",
      "12    22-Sep-83     19-Sep-84     Class X   \n",
      "13    23-Sep-83     19-Sep-84     Class X   \n",
      "\n",
      "                         Holding Offense Holding Offense Category  \\\n",
      "0   ATTEMPT MURDER/INTENT TO KILL/INJURE                 Homicide   \n",
      "1            AGG CRIM SEX ASSAULT/WEAPON   Sex Assault After 7-84   \n",
      "2           MURDER/INTENT TO KILL/INJURE                 Homicide   \n",
      "3           MURDER/INTENT TO KILL/INJURE                 Homicide   \n",
      "4           MURDER/INTENT TO KILL/INJURE                 Homicide   \n",
      "5           MURDER/INTENT TO KILL/INJURE                 Homicide   \n",
      "6                                   RAPE         Rape-Before 7-84   \n",
      "7           MURDER/INTENT TO KILL/INJURE                 Homicide   \n",
      "8                          ARMED ROBBERY            Armed Robbery   \n",
      "9           MURDER/INTENT TO KILL/INJURE                 Homicide   \n",
      "10          MURDER/INTENT TO KILL/INJURE                 Homicide   \n",
      "11  ATTEMPT MURDER/INTENT TO KILL/INJURE                 Homicide   \n",
      "12                                  RAPE         Rape-Before 7-84   \n",
      "13                                  RAPE         Rape-Before 7-84   \n",
      "\n",
      "     Offense Type Sentence Years Sentence Months Truth in Sentencing  \\\n",
      "0   Person Crimes             50               0         Day-for-Day   \n",
      "1      Sex Crimes             60               0         Day-for-Day   \n",
      "2   Person Crimes           LIFE                         Day-for-Day   \n",
      "3   Person Crimes           LIFE                         Day-for-Day   \n",
      "4   Person Crimes           LIFE                         Day-for-Day   \n",
      "5   Person Crimes           LIFE                         Day-for-Day   \n",
      "6      Sex Crimes             60               0         Day-for-Day   \n",
      "7   Person Crimes           LIFE                         Day-for-Day   \n",
      "8   Person Crimes             60               0         Day-for-Day   \n",
      "9   Person Crimes           LIFE                         Day-for-Day   \n",
      "10  Person Crimes           LIFE                         Day-for-Day   \n",
      "11  Person Crimes             60               0         Day-for-Day   \n",
      "12     Sex Crimes           LIFE                         Day-for-Day   \n",
      "13     Sex Crimes           LIFE                         Day-for-Day   \n",
      "\n",
      "   Sentencing County  \n",
      "0             Jasper  \n",
      "1               Cook  \n",
      "2               Will  \n",
      "3               Cook  \n",
      "4               Cook  \n",
      "5               Cook  \n",
      "6               Cook  \n",
      "7               Cook  \n",
      "8               Cook  \n",
      "9               Will  \n",
      "10              Cook  \n",
      "11              Cook  \n",
      "12              Cook  \n",
      "13              Cook  \n",
      "\n",
      "[14 rows x 21 columns]\n"
     ]
    }
   ],
   "source": [
    "# open the file dialog box\n",
    "file_path = filedialog.askopenfilename()\n",
    "\n",
    "df = pd.read_csv (file_path)\n",
    "print(df)"
   ]
  },
  {
   "cell_type": "code",
   "execution_count": 3,
   "id": "86f6772b-cf69-46f9-aac1-c92de1803d55",
   "metadata": {
    "tags": []
   },
   "outputs": [
    {
     "ename": "NameError",
     "evalue": "name 'res' is not defined",
     "output_type": "error",
     "traceback": [
      "\u001b[1;31m---------------------------------------------------------------------------\u001b[0m",
      "\u001b[1;31mNameError\u001b[0m                                 Traceback (most recent call last)",
      "Cell \u001b[1;32mIn[3], line 2\u001b[0m\n\u001b[1;32m----> 2\u001b[0m \u001b[43mres\u001b[49m[\u001b[38;5;241m0\u001b[39m]\u001b[38;5;241m.\u001b[39mdump()\n",
      "\u001b[1;31mNameError\u001b[0m: name 'res' is not defined"
     ]
    }
   ],
   "source": [
    "\n",
    "res[0].dump()\n"
   ]
  },
  {
   "cell_type": "code",
   "execution_count": null,
   "id": "ae746861-64f1-4797-9015-a0dee3300f51",
   "metadata": {},
   "outputs": [],
   "source": []
  },
  {
   "cell_type": "code",
   "execution_count": null,
   "id": "5493eaa7-254d-4c1d-950c-27aef17f77e5",
   "metadata": {},
   "outputs": [],
   "source": []
  },
  {
   "cell_type": "code",
   "execution_count": null,
   "id": "2d488bb7-0a58-43ea-bb87-273c1b1d73c0",
   "metadata": {},
   "outputs": [],
   "source": []
  }
 ],
 "metadata": {
  "kernelspec": {
   "display_name": "Python 3 (ipykernel)",
   "language": "python",
   "name": "python3"
  },
  "language_info": {
   "codemirror_mode": {
    "name": "ipython",
    "version": 3
   },
   "file_extension": ".py",
   "mimetype": "text/x-python",
   "name": "python",
   "nbconvert_exporter": "python",
   "pygments_lexer": "ipython3",
   "version": "3.11.3"
  }
 },
 "nbformat": 4,
 "nbformat_minor": 5
}
